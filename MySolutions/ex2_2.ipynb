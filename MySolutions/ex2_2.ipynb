{
 "cells": [
  {
   "cell_type": "code",
   "execution_count": 2,
   "metadata": {},
   "outputs": [],
   "source": [
    " \n",
    "# from readrides_dict import read_rides_as_dict\n",
    "from readrides import read_rides_as_dicts as read_rides_as_dict  # ex 2_5\n"
   ]
  },
  {
   "cell_type": "code",
   "execution_count": 3,
   "metadata": {},
   "outputs": [],
   "source": [
    "rows = read_rides_as_dict('../Data/ctabus.csv')"
   ]
  },
  {
   "cell_type": "code",
   "execution_count": 4,
   "metadata": {},
   "outputs": [
    {
     "data": {
      "text/plain": [
       "{'route': ['3', '4', '6', '8', '9'],\n",
       " 'date': ['01/01/2001',\n",
       "  '01/01/2001',\n",
       "  '01/01/2001',\n",
       "  '01/01/2001',\n",
       "  '01/01/2001'],\n",
       " 'daytype': ['U', 'U', 'U', 'U', 'U'],\n",
       " 'rides': [7354, 9288, 6048, 6309, 11207]}"
      ]
     },
     "execution_count": 4,
     "metadata": {},
     "output_type": "execute_result"
    }
   ],
   "source": [
    "rows[:5]"
   ]
  },
  {
   "cell_type": "code",
   "execution_count": 5,
   "metadata": {},
   "outputs": [],
   "source": [
    "# How many bus routes exist in Chicago?\n",
    "# How many people rode the number 22 bus on February 2, 2011? What about any route on any date of your choosing?\n",
    "# What is the total number of rides taken on each bus route?\n",
    "# What five bus routes had the greatest ten-year increase in ridership from 2001 to 2011?"
   ]
  },
  {
   "cell_type": "code",
   "execution_count": 5,
   "metadata": {},
   "outputs": [
    {
     "data": {
      "text/plain": [
       "181"
      ]
     },
     "execution_count": 5,
     "metadata": {},
     "output_type": "execute_result"
    }
   ],
   "source": [
    "len({x['route'] for x in rows})\n",
    "# 181 different routes exists"
   ]
  },
  {
   "cell_type": "code",
   "execution_count": 6,
   "metadata": {},
   "outputs": [
    {
     "data": {
      "text/plain": [
       "[5055]"
      ]
     },
     "execution_count": 6,
     "metadata": {},
     "output_type": "execute_result"
    }
   ],
   "source": [
    "[x['rides'] for x in rows if x['date'] == '02/02/2011' and x['route'] == '22']\n",
    "# 5055 - people rode the number 22 bus on February 2, 2011"
   ]
  },
  {
   "cell_type": "code",
   "execution_count": 7,
   "metadata": {},
   "outputs": [
    {
     "data": {
      "text/plain": [
       "[6097]"
      ]
     },
     "execution_count": 7,
     "metadata": {},
     "output_type": "execute_result"
    }
   ],
   "source": [
    "# What about any route on any date of your choosing?\n",
    "[x['rides'] for x in rows if x['date'] == '01/02/2011' and x['route'] == '6']"
   ]
  },
  {
   "cell_type": "code",
   "execution_count": 8,
   "metadata": {},
   "outputs": [],
   "source": [
    "# What is the total number of rides taken on each bus route?\n",
    "from collections import Counter\n",
    "\n",
    "total_rides = Counter()\n",
    "\n",
    "for x in rows:\n",
    "    total_rides[x['route']] += x['rides']"
   ]
  },
  {
   "cell_type": "code",
   "execution_count": 19,
   "metadata": {},
   "outputs": [],
   "source": [
    "# dir(total_rides)"
   ]
  },
  {
   "cell_type": "code",
   "execution_count": 9,
   "metadata": {},
   "outputs": [],
   "source": [
    "# What five bus routes had the greatest ten-year increase in ridership from 2001 to 2011?\n",
    "\n",
    "total_rides_2001 = Counter()\n",
    "\n",
    "for x in rows:\n",
    "    if x['date'].split('/')[-1] == '2001':\n",
    "        total_rides_2001[x['route']] += x['rides']"
   ]
  },
  {
   "cell_type": "code",
   "execution_count": 10,
   "metadata": {},
   "outputs": [],
   "source": [
    "total_rides_2011 = Counter()\n",
    "\n",
    "for x in rows:\n",
    "    if x['date'].split('/')[-1] == '2011':\n",
    "        total_rides_2011[x['route']] += x['rides']"
   ]
  },
  {
   "cell_type": "code",
   "execution_count": 11,
   "metadata": {},
   "outputs": [
    {
     "data": {
      "text/plain": [
       "[('15', 2732209),\n",
       " ('147', 2107910),\n",
       " ('66', 1612958),\n",
       " ('12', 1612067),\n",
       " ('14', 1351308)]"
      ]
     },
     "execution_count": 11,
     "metadata": {},
     "output_type": "execute_result"
    }
   ],
   "source": [
    "total_rides_diff = total_rides_2011 - total_rides_2001\n",
    "total_rides_diff.most_common()[:5]"
   ]
  },
  {
   "cell_type": "code",
   "execution_count": null,
   "metadata": {},
   "outputs": [],
   "source": []
  }
 ],
 "metadata": {
  "kernelspec": {
   "display_name": "venv",
   "language": "python",
   "name": "python3"
  },
  "language_info": {
   "codemirror_mode": {
    "name": "ipython",
    "version": 3
   },
   "file_extension": ".py",
   "mimetype": "text/x-python",
   "name": "python",
   "nbconvert_exporter": "python",
   "pygments_lexer": "ipython3",
   "version": "3.11.4"
  },
  "orig_nbformat": 4
 },
 "nbformat": 4,
 "nbformat_minor": 2
}
