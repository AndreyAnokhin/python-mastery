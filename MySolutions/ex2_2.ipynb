{
 "cells": [
  {
   "cell_type": "code",
   "execution_count": 1,
   "metadata": {},
   "outputs": [],
   "source": [
    " \n",
    "from readrides_dict import read_rides_as_dict"
   ]
  },
  {
   "cell_type": "code",
   "execution_count": 2,
   "metadata": {},
   "outputs": [],
   "source": [
    "rows = read_rides_as_dict('../Data/ctabus.csv')"
   ]
  },
  {
   "cell_type": "code",
   "execution_count": 4,
   "metadata": {},
   "outputs": [
    {
     "data": {
      "text/plain": [
       "[{'route': '3', 'date': '01/01/2001', 'daytype': 'U', 'rides': 7354},\n",
       " {'route': '4', 'date': '01/01/2001', 'daytype': 'U', 'rides': 9288},\n",
       " {'route': '6', 'date': '01/01/2001', 'daytype': 'U', 'rides': 6048},\n",
       " {'route': '8', 'date': '01/01/2001', 'daytype': 'U', 'rides': 6309},\n",
       " {'route': '9', 'date': '01/01/2001', 'daytype': 'U', 'rides': 11207}]"
      ]
     },
     "execution_count": 4,
     "metadata": {},
     "output_type": "execute_result"
    }
   ],
   "source": [
    "rows[:5]"
   ]
  },
  {
   "cell_type": "code",
   "execution_count": 5,
   "metadata": {},
   "outputs": [],
   "source": [
    "# How many bus routes exist in Chicago?\n",
    "# How many people rode the number 22 bus on February 2, 2011? What about any route on any date of your choosing?\n",
    "# What is the total number of rides taken on each bus route?\n",
    "# What five bus routes had the greatest ten-year increase in ridership from 2001 to 2011?"
   ]
  },
  {
   "cell_type": "code",
   "execution_count": 9,
   "metadata": {},
   "outputs": [
    {
     "data": {
      "text/plain": [
       "181"
      ]
     },
     "execution_count": 9,
     "metadata": {},
     "output_type": "execute_result"
    }
   ],
   "source": [
    "len({x['route'] for x in rows})\n",
    "# 181 different routes exists"
   ]
  },
  {
   "cell_type": "code",
   "execution_count": 13,
   "metadata": {},
   "outputs": [
    {
     "data": {
      "text/plain": [
       "[5055]"
      ]
     },
     "execution_count": 13,
     "metadata": {},
     "output_type": "execute_result"
    }
   ],
   "source": [
    "[x['rides'] for x in rows if x['date'] == '02/02/2011' and x['route'] == '22']\n",
    "# 5055 - people rode the number 22 bus on February 2, 2011"
   ]
  },
  {
   "cell_type": "code",
   "execution_count": 15,
   "metadata": {},
   "outputs": [
    {
     "data": {
      "text/plain": [
       "[6097]"
      ]
     },
     "execution_count": 15,
     "metadata": {},
     "output_type": "execute_result"
    }
   ],
   "source": [
    "# What about any route on any date of your choosing?\n",
    "[x['rides'] for x in rows if x['date'] == '01/02/2011' and x['route'] == '6']"
   ]
  },
  {
   "cell_type": "code",
   "execution_count": 16,
   "metadata": {},
   "outputs": [],
   "source": [
    "# What is the total number of rides taken on each bus route?\n",
    "from collections import Counter\n",
    "\n",
    "total_rides = Counter()\n",
    "\n",
    "for x in rows:\n",
    "    total_rides[x['route']] += x['rides']"
   ]
  },
  {
   "cell_type": "code",
   "execution_count": 19,
   "metadata": {},
   "outputs": [],
   "source": [
    "# dir(total_rides)"
   ]
  },
  {
   "cell_type": "code",
   "execution_count": 25,
   "metadata": {},
   "outputs": [],
   "source": [
    "# What five bus routes had the greatest ten-year increase in ridership from 2001 to 2011?\n",
    "\n",
    "total_rides_2001 = Counter()\n",
    "\n",
    "for x in rows:\n",
    "    if x['date'].split('/')[-1] == '2001':\n",
    "        total_rides_2001[x['route']] += x['rides']"
   ]
  },
  {
   "cell_type": "code",
   "execution_count": 26,
   "metadata": {},
   "outputs": [],
   "source": [
    "total_rides_2011 = Counter()\n",
    "\n",
    "for x in rows:\n",
    "    if x['date'].split('/')[-1] == '2011':\n",
    "        total_rides_2011[x['route']] += x['rides']"
   ]
  },
  {
   "cell_type": "code",
   "execution_count": 29,
   "metadata": {},
   "outputs": [
    {
     "data": {
      "text/plain": [
       "[('15', 2732209),\n",
       " ('147', 2107910),\n",
       " ('66', 1612958),\n",
       " ('12', 1612067),\n",
       " ('14', 1351308)]"
      ]
     },
     "execution_count": 29,
     "metadata": {},
     "output_type": "execute_result"
    }
   ],
   "source": [
    "total_rides_diff = total_rides_2011 - total_rides_2001\n",
    "total_rides_diff.most_common()[:5]"
   ]
  },
  {
   "cell_type": "code",
   "execution_count": null,
   "metadata": {},
   "outputs": [],
   "source": []
  }
 ],
 "metadata": {
  "kernelspec": {
   "display_name": "venv",
   "language": "python",
   "name": "python3"
  },
  "language_info": {
   "codemirror_mode": {
    "name": "ipython",
    "version": 3
   },
   "file_extension": ".py",
   "mimetype": "text/x-python",
   "name": "python",
   "nbconvert_exporter": "python",
   "pygments_lexer": "ipython3",
   "version": "3.11.4"
  },
  "orig_nbformat": 4
 },
 "nbformat": 4,
 "nbformat_minor": 2
}
